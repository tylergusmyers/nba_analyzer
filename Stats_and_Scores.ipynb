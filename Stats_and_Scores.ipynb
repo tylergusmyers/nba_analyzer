{
 "cells": [
  {
   "cell_type": "code",
   "execution_count": 2,
   "id": "7d17ede4-9fd2-4cdb-ad6f-e45de3289abe",
   "metadata": {},
   "outputs": [],
   "source": [
    "import requests\n",
    "import json\n",
    "import pprint\n",
    "import pandas as pd\n",
    "import pycurl\n",
    "from itertools import chain\n",
    "import numpy as np"
   ]
  },
  {
   "cell_type": "code",
   "execution_count": null,
   "id": "e7fbbe94-afd6-4c32-9479-508c24671bc9",
   "metadata": {},
   "outputs": [],
   "source": [
    "requests.get(\"https://www.balldontlie.io/api/v1/stats?player_ids[]={}&start_date='2021-03-01'&end_date='2021-04-01'\")"
   ]
  },
  {
   "cell_type": "code",
   "execution_count": null,
   "id": "3a5aad89-875d-465a-a7c3-6799658b3074",
   "metadata": {},
   "outputs": [],
   "source": []
  }
 ],
 "metadata": {
  "kernelspec": {
   "display_name": "dev",
   "language": "python",
   "name": "dev"
  },
  "language_info": {
   "codemirror_mode": {
    "name": "ipython",
    "version": 3
   },
   "file_extension": ".py",
   "mimetype": "text/x-python",
   "name": "python",
   "nbconvert_exporter": "python",
   "pygments_lexer": "ipython3",
   "version": "3.7.10"
  }
 },
 "nbformat": 4,
 "nbformat_minor": 5
}

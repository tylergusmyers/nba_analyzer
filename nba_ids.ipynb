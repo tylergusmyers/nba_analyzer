{
 "cells": [
  {
   "cell_type": "code",
   "execution_count": 46,
   "id": "7d1014aa-9d8e-4931-a675-0c0287ff9886",
   "metadata": {},
   "outputs": [],
   "source": [
    "import requests\n",
    "import json\n",
    "import pprint\n",
    "import pandas as pd\n",
    "import pycurl\n",
    "pp = pprint.PrettyPrinter()\n",
    "from requests import post\n"
   ]
  },
  {
   "cell_type": "code",
   "execution_count": 25,
   "id": "bbb06ce5-9581-480e-9e43-94c1c119affa",
   "metadata": {},
   "outputs": [],
   "source": [
    "%store -r salary_df"
   ]
  },
  {
   "cell_type": "code",
   "execution_count": 26,
   "id": "1b76a58d-9dc8-423d-983f-7c65c423f4ad",
   "metadata": {},
   "outputs": [
    {
     "data": {
      "text/plain": [
       "Rk\n",
       "1             Stephen Curry\n",
       "2                 John Wall\n",
       "3         Russell Westbrook\n",
       "4              James Harden\n",
       "5            Damian Lillard\n",
       "6              LeBron James\n",
       "7              Kevin Durant\n",
       "8     Giannis Antetokounmpo\n",
       "9               Paul George\n",
       "10            Kawhi Leonard\n",
       "11            Klay Thompson\n",
       "12             Jimmy Butler\n",
       "13            Tobias Harris\n",
       "14          Khris Middleton\n",
       "15            Anthony Davis\n",
       "16              Rudy Gobert\n",
       "17             Kyrie Irving\n",
       "18             Bradley Beal\n",
       "19       Kristaps Porziņģis\n",
       "20             Devin Booker\n",
       "Name: Player, dtype: object"
      ]
     },
     "execution_count": 26,
     "metadata": {},
     "output_type": "execute_result"
    }
   ],
   "source": [
    "player_names_list=salary_df['Player']\n",
    "player_names_list"
   ]
  },
  {
   "cell_type": "code",
   "execution_count": null,
   "id": "e9bbe0c2-5307-4710-b6bf-e4cad6fe2710",
   "metadata": {},
   "outputs": [],
   "source": [
    "player_url = url + f'{name}'\n",
    "    player_get = requests.get(player_url)\n",
    "    player_dict = json.loads(player_get.text)\n",
    "    print(player_dict)"
   ]
  },
  {
   "cell_type": "code",
   "execution_count": null,
   "id": "68766154-780a-45ec-b29f-2d633bea21f8",
   "metadata": {},
   "outputs": [],
   "source": [
    "headers = {\n",
    "        \"User-Agent\": \"Mozilla/5.0 (Windows NT 10.0; Win64; x64) AppleWebKit/537.36 (KHTML, like Gecko) Chrome/79.0.3945.130 Safari/537.36\",\n",
    "        \"Referer\": \"http://zjj.sz.gov.cn/projreg/public/jgys/jgysList.jsp\"}\n",
    "dfs = []\n",
    "#dfs = pd.DataFrame()\n",
    "\n",
    "for page in range(0, 5):\n",
    "    data = {\"limit\": 100, \"offset\": page * 100, \"pageNumber\": page + 1}\n",
    "    json_arr = requests.post(\"http://zjj.sz.gov.cn/projreg/public/jgys/webService/getJgysLogList.json\", headers = headers, data = data).text\n",
    "    d = json.loads(json_arr)\n",
    "    df = pd.read_json(json.dumps(d['rows']) , orient='list')"
   ]
  },
  {
   "cell_type": "code",
   "execution_count": 59,
   "id": "fa402e44-2749-4442-80bc-35bf6edad11a",
   "metadata": {},
   "outputs": [
    {
     "ename": "AttributeError",
     "evalue": "'dict' object has no attribute 'append'",
     "output_type": "error",
     "traceback": [
      "\u001b[1;31m---------------------------------------------------------------------------\u001b[0m",
      "\u001b[1;31mAttributeError\u001b[0m                            Traceback (most recent call last)",
      "\u001b[1;32m<ipython-input-59-7bcb8f729f14>\u001b[0m in \u001b[0;36m<module>\u001b[1;34m\u001b[0m\n\u001b[0;32m      8\u001b[0m     \u001b[0mplayer_get\u001b[0m \u001b[1;33m=\u001b[0m \u001b[0mrequests\u001b[0m\u001b[1;33m.\u001b[0m\u001b[0mget\u001b[0m\u001b[1;33m(\u001b[0m\u001b[0mplayer_url\u001b[0m\u001b[1;33m)\u001b[0m\u001b[1;33m\u001b[0m\u001b[1;33m\u001b[0m\u001b[0m\n\u001b[0;32m      9\u001b[0m     \u001b[0mplayer_dict\u001b[0m \u001b[1;33m=\u001b[0m \u001b[0mjson\u001b[0m\u001b[1;33m.\u001b[0m\u001b[0mloads\u001b[0m\u001b[1;33m(\u001b[0m\u001b[0mplayer_get\u001b[0m\u001b[1;33m.\u001b[0m\u001b[0mtext\u001b[0m\u001b[1;33m)\u001b[0m\u001b[1;33m\u001b[0m\u001b[1;33m\u001b[0m\u001b[0m\n\u001b[1;32m---> 10\u001b[1;33m     \u001b[0mplayer_ids_df\u001b[0m\u001b[1;33m=\u001b[0m \u001b[0mplayer_dict\u001b[0m\u001b[1;33m.\u001b[0m\u001b[0mappend\u001b[0m\u001b[1;33m(\u001b[0m\u001b[1;33m)\u001b[0m\u001b[1;33m\u001b[0m\u001b[1;33m\u001b[0m\u001b[0m\n\u001b[0m\u001b[0;32m     11\u001b[0m \u001b[1;33m\u001b[0m\u001b[0m\n",
      "\u001b[1;31mAttributeError\u001b[0m: 'dict' object has no attribute 'append'"
     ]
    }
   ],
   "source": [
    "# player_ids = player_dict['data'][0][\"id\"]\n",
    "# print(player_ids)\n",
    "url = \"https://www.balldontlie.io/api/v1/players/?search=\"\n",
    "player_ids_df = []\n",
    "for name in player_names_list:\n",
    "    json_arr=requests.post(\"https://www.balldontlie.io/api/v1/players/?search=\")\n",
    "    player_url = url + f'{name}'\n",
    "    player_get = requests.get(player_url)\n",
    "    player_dict = json.loads(player_get.text)\n",
    "    player_ids_df= player_dict.append()\n",
    "\n"
   ]
  },
  {
   "cell_type": "code",
   "execution_count": null,
   "id": "4a6203cb-35b2-4606-852e-9d88dbf71ec9",
   "metadata": {},
   "outputs": [],
   "source": []
  },
  {
   "cell_type": "code",
   "execution_count": 28,
   "id": "92f8c3ed-b06d-4d3e-b6b1-e96afdbc70d9",
   "metadata": {},
   "outputs": [
    {
     "ename": "IndentationError",
     "evalue": "unexpected indent (<ipython-input-28-c366c6ecdc08>, line 2)",
     "output_type": "error",
     "traceback": [
      "\u001b[1;36m  File \u001b[1;32m\"<ipython-input-28-c366c6ecdc08>\"\u001b[1;36m, line \u001b[1;32m2\u001b[0m\n\u001b[1;33m    player_dict = json.loads(player_get.text)\u001b[0m\n\u001b[1;37m    ^\u001b[0m\n\u001b[1;31mIndentationError\u001b[0m\u001b[1;31m:\u001b[0m unexpected indent\n"
     ]
    }
   ],
   "source": []
  },
  {
   "cell_type": "code",
   "execution_count": null,
   "id": "eeb51810-212e-425d-8161-87210b318b48",
   "metadata": {},
   "outputs": [],
   "source": []
  },
  {
   "cell_type": "code",
   "execution_count": null,
   "id": "c34edc03-e3da-418c-bcda-56eec9b53dde",
   "metadata": {},
   "outputs": [],
   "source": []
  }
 ],
 "metadata": {
  "kernelspec": {
   "display_name": "dev",
   "language": "python",
   "name": "dev"
  },
  "language_info": {
   "codemirror_mode": {
    "name": "ipython",
    "version": 3
   },
   "file_extension": ".py",
   "mimetype": "text/x-python",
   "name": "python",
   "nbconvert_exporter": "python",
   "pygments_lexer": "ipython3",
   "version": "3.7.10"
  }
 },
 "nbformat": 4,
 "nbformat_minor": 5
}

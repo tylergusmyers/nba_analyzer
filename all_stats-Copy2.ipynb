{
 "cells": [
  {
   "cell_type": "code",
   "execution_count": 1,
   "id": "7d17ede4-9fd2-4cdb-ad6f-e45de3289abe",
   "metadata": {},
   "outputs": [],
   "source": [
    "import requests\n",
    "import json\n",
    "import pprint\n",
    "import pandas as pd\n",
    "import pycurl\n",
    "from itertools import chain\n",
    "import numpy as np"
   ]
  },
  {
   "cell_type": "code",
   "execution_count": 2,
   "id": "1fcd6690-c0e7-4b7f-a3bf-6f353ad1860f",
   "metadata": {},
   "outputs": [],
   "source": [
    "%store -r player_id_list"
   ]
  },
  {
   "cell_type": "code",
   "execution_count": 34,
   "id": "97fd351f-8709-401e-9d99-8060eee081cb",
   "metadata": {},
   "outputs": [],
   "source": [
    "player_id = 237\n",
    "date ='2021-01-02'\n",
    "%store -r player_mapper\n"
   ]
  },
  {
   "cell_type": "code",
   "execution_count": null,
   "id": "be0772e1-c328-4ae7-985b-1d2b6098252e",
   "metadata": {},
   "outputs": [],
   "source": [
    "concat_df = pd.DataFrame()\n",
    "for id_ in player_mapper.keys():\n",
    "    main_df = requests.get(\"https://www.balldontlie.io/api/v1/stats?per_page=100&seasons[]=\\\n",
    "                        2020&player_ids[]=%d&start_date%s\"%(id_,date))\n",
    "    main_df.json()\n",
    "\n",
    "    main_df = json.loads(main_df.text)\n",
    "    main_df = pd.DataFrame(main_df['data'])\n",
    "\n",
    "#     main_df.loc['game']['id']\n",
    "#     main_df['concat_ID'] = main_df.apply(lambda x:int(str(x['player']['id']) \n",
    "#                                                   + str(x['team']['id']) + \n",
    "# #                                                   str(x['game']['id'])), axis =1)\n",
    "#     main_df\n",
    "    concat_df = concat_df.append(main_df)\n",
    "concat_df"
   ]
  },
  {
   "cell_type": "code",
   "execution_count": 22,
   "id": "a253462f-81ed-4ab7-8ac1-703f2f1cd2b9",
   "metadata": {},
   "outputs": [],
   "source": [
    "# main_df = requests.get(\"https://www.balldontlie.io/api/v1/stats?per_page=100&seasons[]=\\\n",
    "#                         2020&player_ids[]=%d&start_date%s\"%(player_id,date))\n",
    "# main_df.json()\n",
    "\n",
    "# main_df = json.loads(main_df.text)\n",
    "# main_df = pd.DataFrame(main_df['data'])\n",
    "\n",
    "# main_df.loc[0,'game']['id']\n",
    "# main_df['concat_ID'] = main_df.apply(lambda x:int(str(x['player']['id']) \n",
    "#                                                   + str(x['team']['id']) + \n",
    "#                                                   str(x['game']['id'])), axis =1)\n",
    "# main_df.set_index('concat_ID', inplace =True)\n"
   ]
  },
  {
   "cell_type": "code",
   "execution_count": null,
   "id": "c2f5304a-1fa9-4fa9-b4cb-9ff4020b928e",
   "metadata": {},
   "outputs": [],
   "source": [
    "# mapping_id = json.load(open(\"player_mapper.json\"))"
   ]
  },
  {
   "cell_type": "code",
   "execution_count": 29,
   "id": "bc6f2f33-1b10-4d02-91fc-fbbfbd74bbe7",
   "metadata": {},
   "outputs": [],
   "source": [
    "def count_stats(james_df):\n",
    "    a = james_df['pts']\n",
    "    b = james_df['fgm'] * 0.4\n",
    "    c = james_df['fga'] * 0.7\n",
    "    d = ((james_df['fta']) - (james_df['ftm'])) * 0.4\n",
    "    e = james_df['oreb'] * 0.7 \n",
    "    f = james_df['dreb'] * 0.3\n",
    "    g = james_df['stl']\n",
    "    h = james_df['ast'] * 0.7\n",
    "    j = james_df['blk'] * 0.7\n",
    "    k = james_df['pf'] * 0.4\n",
    "    l = james_df['turnover']\n",
    "    james_score = a + b - c - d + e + f + g + h + j - k - l\n",
    "    id_name = mapping_id[player_id]\n",
    "    return pd.DataFrame(james_score, column_name = id_name)"
   ]
  },
  {
   "cell_type": "code",
   "execution_count": 31,
   "id": "e01b8408-a243-4f12-b887-39385a63452a",
   "metadata": {},
   "outputs": [
    {
     "data": {
      "text/plain": [
       "concat_ID\n",
       "23714127503    13.1\n",
       "23714127520    18.7\n",
       "23714127541    13.3\n",
       "23714127545    25.6\n",
       "23714127803    13.0\n",
       "23714127589    21.3\n",
       "23714127888    17.5\n",
       "23714127842    26.4\n",
       "23714127788    19.6\n",
       "23714127748    10.1\n",
       "23714127816    22.9\n",
       "23714128005    28.4\n",
       "23714127728    27.4\n",
       "23714127571    22.5\n",
       "23714127947    24.2\n",
       "23714127711     9.6\n",
       "23714127759    41.6\n",
       "23714127990    13.3\n",
       "23714127560    19.9\n",
       "23714128037    31.8\n",
       "23714127632    19.5\n",
       "23714127775    24.7\n",
       "23714127965    12.0\n",
       "23714127916    20.4\n",
       "23714127682    23.0\n",
       "23714127644    15.4\n",
       "23714127621    23.1\n",
       "23714128023    18.6\n",
       "23714127975    19.5\n",
       "23714127897    24.0\n",
       "23714127862    24.2\n",
       "23714127873    26.4\n",
       "23714127930    24.9\n",
       "23714422762    24.5\n",
       "23714157586    17.2\n",
       "23714424777    17.2\n",
       "23714426790    22.7\n",
       "23714428348    13.4\n",
       "23714430990    16.3\n",
       "23714156558    19.1\n",
       "23714432960    17.7\n",
       "23714434689    22.8\n",
       "23714264302    19.2\n",
       "23714264338     9.1\n",
       "23714264684    13.4\n",
       "23714264797    19.5\n",
       "23714264310    27.5\n",
       "23714264662    14.2\n",
       "23714264277    13.6\n",
       "23714264326    31.0\n",
       "23714264786    16.7\n",
       "23714127606    21.1\n",
       "dtype: float64"
      ]
     },
     "execution_count": 31,
     "metadata": {},
     "output_type": "execute_result"
    }
   ],
   "source": [
    "count_stats(main_df)"
   ]
  },
  {
   "cell_type": "code",
   "execution_count": null,
   "id": "961c0f2f-21aa-4694-be2e-d29460b50c36",
   "metadata": {},
   "outputs": [],
   "source": [
    "james_list = []\n",
    "for i in range (len(james_df)):\n",
    "    a = james_df.loc[i,'pts']\n",
    "    b = james_df.loc[i, 'fgm'] * 0.4\n",
    "    c = james_df.loc[i,'fga'] * 0.7\n",
    "    d = ((james_df.loc[i,'fta']) - (james_df.loc[i, 'ftm'])) * 0.4\n",
    "    e = james_df.loc[i,'oreb'] * 0.7 \n",
    "    f = james_df.loc[i,'dreb'] * 0.3\n",
    "    g = james_df.loc[i,'stl']\n",
    "    h = james_df.loc[i,'ast'] * 0.7\n",
    "    j = james_df.loc[i,'blk'] * 0.7\n",
    "    k = james_df.loc[i,'pf'] * 0.4\n",
    "    l = james_df.loc[i,'turnover']\n",
    "    james_score = a + b - c - d + e + f + g + h + j - k - l\n",
    "    james_list.append([james_score])\n",
    "pd.DataFrame(james_list)"
   ]
  },
  {
   "cell_type": "code",
   "execution_count": null,
   "id": "b048f836-cb19-48ab-bdae-ff9f6ba9dc0f",
   "metadata": {},
   "outputs": [],
   "source": [
    "curry = requests.get(\"https://www.balldontlie.io/api/v1/stats?per_page=100&seasons[]=2020&player_ids[]=115&start_date'2021-01-02'\")\n",
    "curry.json()\n",
    "curry_all = json.loads(curry.text)\n",
    "curry_df = pd.DataFrame(curry_all['data'])\n",
    "curry_df.set_index('id')\n",
    "\n",
    "curry_list = []\n",
    "for i in range (len(curry_df)):\n",
    "    a = curry_df.loc[i,'pts']\n",
    "    b = curry_df.loc[i, 'fgm'] * 0.4\n",
    "    c = curry_df.loc[i,'fga'] * 0.7\n",
    "    d = ((curry_df.loc[i,'fta']) - (curry_df.loc[i, 'ftm'])) * 0.4\n",
    "    e = curry_df.loc[i,'oreb'] * 0.7 \n",
    "    f = curry_df.loc[i,'dreb'] * 0.3\n",
    "    g = curry_df.loc[i,'stl']\n",
    "    h = curry_df.loc[i,'ast'] * 0.7\n",
    "    j = curry_df.loc[i,'blk'] * 0.7\n",
    "    k = curry_df.loc[i,'pf'] * 0.4\n",
    "    l = curry_df.loc[i,'turnover']\n",
    "    curry_score = a + b - c - d + e + f + g + h + j - k - l\n",
    "    curry_list.append([curry_score])\n",
    "pd.DataFrame(curry_list)"
   ]
  },
  {
   "cell_type": "code",
   "execution_count": null,
   "id": "e493b4d1-634c-46e9-bd88-76ed7cc846c0",
   "metadata": {},
   "outputs": [],
   "source": [
    "jwall = requests.get(\"https://www.balldontlie.io/api/v1/stats?per_page=100&seasons[]=2019&player_ids[]=1014&start_date'2019-01-02'\")\n",
    "jwall.json()\n",
    "jwall_all = json.loads(jwall.text)\n",
    "jwall_df = pd.DataFrame(jwall_all['data'])\n",
    "\n",
    "\n",
    "jwall_list = []\n",
    "for i in range (len(jwall_df)):\n",
    "    a = jwall_df.loc[i,'pts']\n",
    "    b = jwall_df.loc[i, 'fgm'] * 0.4\n",
    "    c = jwall_df.loc[i,'fga'] * 0.7\n",
    "    d = ((jwall_df.loc[i,'fta']) - (jwall_df.loc[i, 'ftm'])) * 0.4\n",
    "    e = jwall_df.loc[i,'oreb'] * 0.7 \n",
    "    f = jwall_df.loc[i,'dreb'] * 0.3\n",
    "    g = jwall_df.loc[i,'stl']\n",
    "    h = jwall_df.loc[i,'ast'] * 0.7\n",
    "    j = jwall_df.loc[i,'blk'] * 0.7\n",
    "    k = jwall_df.loc[i,'pf'] * 0.4\n",
    "    l = jwall_df.loc[i,'turnover']\n",
    "    jwall_score = a + b - c - d + e + f + g + h + j - k - l\n",
    "    jwall_list.append([jwall_score])\n",
    "pd.DataFrame(jwall_list)\n"
   ]
  },
  {
   "cell_type": "code",
   "execution_count": null,
   "id": "dd09bf0a-4e29-493c-81c6-9accc78474ad",
   "metadata": {},
   "outputs": [],
   "source": []
  }
 ],
 "metadata": {
  "kernelspec": {
   "display_name": "dev",
   "language": "python",
   "name": "dev"
  },
  "language_info": {
   "codemirror_mode": {
    "name": "ipython",
    "version": 3
   },
   "file_extension": ".py",
   "mimetype": "text/x-python",
   "name": "python",
   "nbconvert_exporter": "python",
   "pygments_lexer": "ipython3",
   "version": "3.7.7"
  }
 },
 "nbformat": 4,
 "nbformat_minor": 5
}

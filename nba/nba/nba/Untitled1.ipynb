{
 "cells": [
  {
   "cell_type": "code",
   "execution_count": 1,
   "id": "36a66081-1613-4915-9980-1a5661051cc3",
   "metadata": {},
   "outputs": [
    {
     "name": "stdout",
     "output_type": "stream",
     "text": [
      "{'data': [{'games_played': 6, 'player_id': 237, 'season': 2021, 'min': '37:03', 'fgm': 9.5, 'fga': 20.33, 'fg3m': 2.83, 'fg3a': 8.17, 'ftm': 3.0, 'fta': 3.83, 'oreb': 0.5, 'dreb': 5.0, 'reb': 5.5, 'ast': 7.0, 'stl': 2.33, 'blk': 0.83, 'turnover': 4.17, 'pf': 2.33, 'pts': 24.83, 'fg_pct': 0.467, 'fg3_pct': 0.347, 'ft_pct': 0.783}]}\n"
     ]
    }
   ],
   "source": [
    "import requests\n",
    "import json\n",
    "import pprint\n",
    "import pandas as pd\n",
    "import pycurl\n",
    "pp = pprint.PrettyPrinter()\n",
    "\n",
    "james = requests.get(\"https://www.balldontlie.io/api/v1/season_averages?player_ids[]=237\")\n",
    "james.json()\n",
    "james_dict = json.loads(james.text)\n",
    "print(james_dict)"
   ]
  },
  {
   "cell_type": "code",
   "execution_count": null,
   "id": "4e2e1471-10bb-4890-b548-2c6575fc4125",
   "metadata": {},
   "outputs": [],
   "source": []
  }
 ],
 "metadata": {
  "kernelspec": {
   "display_name": "dev",
   "language": "python",
   "name": "dev"
  },
  "language_info": {
   "codemirror_mode": {
    "name": "ipython",
    "version": 3
   },
   "file_extension": ".py",
   "mimetype": "text/x-python",
   "name": "python",
   "nbconvert_exporter": "python",
   "pygments_lexer": "ipython3",
   "version": "3.7.7"
  }
 },
 "nbformat": 4,
 "nbformat_minor": 5
}

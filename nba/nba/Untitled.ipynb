{
 "cells": [
  {
   "cell_type": "code",
   "execution_count": 1,
   "id": "13fcf324-c42a-40ab-ac79-692b0cc4434b",
   "metadata": {},
   "outputs": [
    {
     "data": {
      "text/plain": [
       "['Stephen Curry',\n",
       " 'John Wall',\n",
       " 'Russell Westbrook',\n",
       " 'James Harden',\n",
       " 'Damian Lillard',\n",
       " 'LeBron James',\n",
       " 'Kevin Durant',\n",
       " 'Giannis Antetokounmpo',\n",
       " 'Paul George',\n",
       " 'Kawhi Leonard',\n",
       " 'Klay Thompson',\n",
       " 'Jimmy Butler',\n",
       " 'Tobias Harris',\n",
       " 'Khris Middleton',\n",
       " 'Anthony Davis',\n",
       " 'Rudy Gobert',\n",
       " 'Kyrie Irving',\n",
       " 'Bradley Beal',\n",
       " 'Kristaps Porziņģis',\n",
       " 'Devin Booker']"
      ]
     },
     "execution_count": 1,
     "metadata": {},
     "output_type": "execute_result"
    }
   ],
   "source": [
    "import requests\n",
    "import json\n",
    "import pprint\n",
    "import pandas as pd\n",
    "import pycurl\n",
    "%store -r player_names_list\n",
    "player_names_list"
   ]
  },
  {
   "cell_type": "code",
   "execution_count": 2,
   "id": "a6f42ee3-d710-4313-8032-f12a8ea795fc",
   "metadata": {},
   "outputs": [],
   "source": [
    "url = \"https://www.balldontlie.io/api/v1/players/?search=\""
   ]
  },
  {
   "cell_type": "code",
   "execution_count": 19,
   "id": "29a5997d-2bc7-46b5-be39-ad574aabe142",
   "metadata": {},
   "outputs": [
    {
     "name": "stdout",
     "output_type": "stream",
     "text": [
      "{'data': [{'id': 115, 'first_name': 'Stephen', 'height_feet': 6, 'height_inches': 3, 'last_name': 'Curry', 'position': 'G', 'team': {'id': 10, 'abbreviation': 'GSW', 'city': 'Golden State', 'conference': 'West', 'division': 'Pacific', 'full_name': 'Golden State Warriors', 'name': 'Warriors'}, 'weight_pounds': 190}], 'meta': {'total_pages': 1, 'current_page': 1, 'next_page': None, 'per_page': 25, 'total_count': 1}}\n",
      "{'data': [{'id': 1014, 'first_name': 'John', 'height_feet': None, 'height_inches': None, 'last_name': 'Wallace', 'position': '', 'team': {'id': 20, 'abbreviation': 'NYK', 'city': 'New York', 'conference': 'East', 'division': 'Atlantic', 'full_name': 'New York Knicks', 'name': 'Knicks'}, 'weight_pounds': None}, {'id': 467, 'first_name': 'John', 'height_feet': 6, 'height_inches': 4, 'last_name': 'Wall', 'position': 'G', 'team': {'id': 11, 'abbreviation': 'HOU', 'city': 'Houston', 'conference': 'West', 'division': 'Southwest', 'full_name': 'Houston Rockets', 'name': 'Rockets'}, 'weight_pounds': 210}], 'meta': {'total_pages': 1, 'current_page': 1, 'next_page': None, 'per_page': 25, 'total_count': 2}}\n",
      "{'data': [{'id': 472, 'first_name': 'Russell', 'height_feet': 6, 'height_inches': 3, 'last_name': 'Westbrook', 'position': 'G', 'team': {'id': 14, 'abbreviation': 'LAL', 'city': 'Los Angeles', 'conference': 'West', 'division': 'Pacific', 'full_name': 'Los Angeles Lakers', 'name': 'Lakers'}, 'weight_pounds': 200}], 'meta': {'total_pages': 1, 'current_page': 1, 'next_page': None, 'per_page': 25, 'total_count': 1}}\n",
      "{'data': [{'id': 192, 'first_name': 'James', 'height_feet': 6, 'height_inches': 5, 'last_name': 'Harden', 'position': 'G', 'team': {'id': 3, 'abbreviation': 'BKN', 'city': 'Brooklyn', 'conference': 'East', 'division': 'Atlantic', 'full_name': 'Brooklyn Nets', 'name': 'Nets'}, 'weight_pounds': 220}], 'meta': {'total_pages': 1, 'current_page': 1, 'next_page': None, 'per_page': 25, 'total_count': 1}}\n",
      "{'data': [{'id': 278, 'first_name': 'Damian', 'height_feet': 6, 'height_inches': 3, 'last_name': 'Lillard', 'position': 'G', 'team': {'id': 25, 'abbreviation': 'POR', 'city': 'Portland', 'conference': 'West', 'division': 'Northwest', 'full_name': 'Portland Trail Blazers', 'name': 'Trail Blazers'}, 'weight_pounds': 195}], 'meta': {'total_pages': 1, 'current_page': 1, 'next_page': None, 'per_page': 25, 'total_count': 1}}\n",
      "{'data': [{'id': 237, 'first_name': 'LeBron', 'height_feet': 6, 'height_inches': 8, 'last_name': 'James', 'position': 'F', 'team': {'id': 14, 'abbreviation': 'LAL', 'city': 'Los Angeles', 'conference': 'West', 'division': 'Pacific', 'full_name': 'Los Angeles Lakers', 'name': 'Lakers'}, 'weight_pounds': 250}], 'meta': {'total_pages': 1, 'current_page': 1, 'next_page': None, 'per_page': 25, 'total_count': 1}}\n",
      "{'data': [{'id': 140, 'first_name': 'Kevin', 'height_feet': 6, 'height_inches': 9, 'last_name': 'Durant', 'position': 'F', 'team': {'id': 3, 'abbreviation': 'BKN', 'city': 'Brooklyn', 'conference': 'East', 'division': 'Atlantic', 'full_name': 'Brooklyn Nets', 'name': 'Nets'}, 'weight_pounds': 240}], 'meta': {'total_pages': 1, 'current_page': 1, 'next_page': None, 'per_page': 25, 'total_count': 1}}\n",
      "{'data': [{'id': 15, 'first_name': 'Giannis', 'height_feet': 6, 'height_inches': 11, 'last_name': 'Antetokounmpo', 'position': 'F', 'team': {'id': 17, 'abbreviation': 'MIL', 'city': 'Milwaukee', 'conference': 'East', 'division': 'Central', 'full_name': 'Milwaukee Bucks', 'name': 'Bucks'}, 'weight_pounds': 242}], 'meta': {'total_pages': 1, 'current_page': 1, 'next_page': None, 'per_page': 25, 'total_count': 1}}\n",
      "{'data': [{'id': 172, 'first_name': 'Paul', 'height_feet': 6, 'height_inches': 9, 'last_name': 'George', 'position': 'F', 'team': {'id': 13, 'abbreviation': 'LAC', 'city': 'LA', 'conference': 'West', 'division': 'Pacific', 'full_name': 'LA Clippers', 'name': 'Clippers'}, 'weight_pounds': 220}], 'meta': {'total_pages': 1, 'current_page': 1, 'next_page': None, 'per_page': 25, 'total_count': 1}}\n",
      "{'data': [{'id': 274, 'first_name': 'Kawhi', 'height_feet': 6, 'height_inches': 7, 'last_name': 'Leonard', 'position': 'F', 'team': {'id': 13, 'abbreviation': 'LAC', 'city': 'LA', 'conference': 'West', 'division': 'Pacific', 'full_name': 'LA Clippers', 'name': 'Clippers'}, 'weight_pounds': 230}], 'meta': {'total_pages': 1, 'current_page': 1, 'next_page': None, 'per_page': 25, 'total_count': 1}}\n",
      "{'data': [{'id': 443, 'first_name': 'Klay', 'height_feet': 6, 'height_inches': 7, 'last_name': 'Thompson', 'position': 'G', 'team': {'id': 10, 'abbreviation': 'GSW', 'city': 'Golden State', 'conference': 'West', 'division': 'Pacific', 'full_name': 'Golden State Warriors', 'name': 'Warriors'}, 'weight_pounds': 215}], 'meta': {'total_pages': 1, 'current_page': 1, 'next_page': None, 'per_page': 25, 'total_count': 1}}\n",
      "{'data': [{'id': 79, 'first_name': 'Jimmy', 'height_feet': 6, 'height_inches': 8, 'last_name': 'Butler', 'position': 'G-F', 'team': {'id': 16, 'abbreviation': 'MIA', 'city': 'Miami', 'conference': 'East', 'division': 'Southeast', 'full_name': 'Miami Heat', 'name': 'Heat'}, 'weight_pounds': 232}], 'meta': {'total_pages': 1, 'current_page': 1, 'next_page': None, 'per_page': 25, 'total_count': 1}}\n",
      "{'data': [{'id': 200, 'first_name': 'Tobias', 'height_feet': 6, 'height_inches': 9, 'last_name': 'Harris', 'position': 'F', 'team': {'id': 23, 'abbreviation': 'PHI', 'city': 'Philadelphia', 'conference': 'East', 'division': 'Atlantic', 'full_name': 'Philadelphia 76ers', 'name': '76ers'}, 'weight_pounds': 235}], 'meta': {'total_pages': 1, 'current_page': 1, 'next_page': None, 'per_page': 25, 'total_count': 1}}\n",
      "{'data': [{'id': 315, 'first_name': 'Khris', 'height_feet': 6, 'height_inches': 8, 'last_name': 'Middleton', 'position': 'F', 'team': {'id': 17, 'abbreviation': 'MIL', 'city': 'Milwaukee', 'conference': 'East', 'division': 'Central', 'full_name': 'Milwaukee Bucks', 'name': 'Bucks'}, 'weight_pounds': 222}], 'meta': {'total_pages': 1, 'current_page': 1, 'next_page': None, 'per_page': 25, 'total_count': 1}}\n",
      "{'data': [{'id': 117, 'first_name': 'Anthony', 'height_feet': 6, 'height_inches': 10, 'last_name': 'Davis', 'position': 'F-C', 'team': {'id': 14, 'abbreviation': 'LAL', 'city': 'Los Angeles', 'conference': 'West', 'division': 'Pacific', 'full_name': 'Los Angeles Lakers', 'name': 'Lakers'}, 'weight_pounds': 253}], 'meta': {'total_pages': 1, 'current_page': 1, 'next_page': None, 'per_page': 25, 'total_count': 1}}\n",
      "{'data': [{'id': 176, 'first_name': 'Rudy', 'height_feet': 7, 'height_inches': 1, 'last_name': 'Gobert', 'position': 'C', 'team': {'id': 29, 'abbreviation': 'UTA', 'city': 'Utah', 'conference': 'West', 'division': 'Northwest', 'full_name': 'Utah Jazz', 'name': 'Jazz'}, 'weight_pounds': 245}], 'meta': {'total_pages': 1, 'current_page': 1, 'next_page': None, 'per_page': 25, 'total_count': 1}}\n",
      "{'data': [{'id': 228, 'first_name': 'Kyrie', 'height_feet': 6, 'height_inches': 3, 'last_name': 'Irving', 'position': 'G', 'team': {'id': 3, 'abbreviation': 'BKN', 'city': 'Brooklyn', 'conference': 'East', 'division': 'Atlantic', 'full_name': 'Brooklyn Nets', 'name': 'Nets'}, 'weight_pounds': 193}], 'meta': {'total_pages': 1, 'current_page': 1, 'next_page': None, 'per_page': 25, 'total_count': 1}}\n",
      "{'data': [{'id': 37, 'first_name': 'Bradley', 'height_feet': 6, 'height_inches': 5, 'last_name': 'Beal', 'position': 'G', 'team': {'id': 30, 'abbreviation': 'WAS', 'city': 'Washington', 'conference': 'East', 'division': 'Southeast', 'full_name': 'Washington Wizards', 'name': 'Wizards'}, 'weight_pounds': 207}], 'meta': {'total_pages': 1, 'current_page': 1, 'next_page': None, 'per_page': 25, 'total_count': 1}}\n",
      "{'data': [], 'meta': {'total_pages': 0, 'current_page': 1, 'next_page': None, 'per_page': 25, 'total_count': 0}}\n",
      "{'data': [{'id': 57, 'first_name': 'Devin', 'height_feet': 6, 'height_inches': 6, 'last_name': 'Booker', 'position': 'G', 'team': {'id': 24, 'abbreviation': 'PHX', 'city': 'Phoenix', 'conference': 'West', 'division': 'Pacific', 'full_name': 'Phoenix Suns', 'name': 'Suns'}, 'weight_pounds': 210}], 'meta': {'total_pages': 1, 'current_page': 1, 'next_page': None, 'per_page': 25, 'total_count': 1}}\n"
     ]
    }
   ],
   "source": [
    "player_ids_list = []\n",
    "for name in player_names_list:\n",
    "    player_url = url + f\"{name}\"\n",
    "    player_get = requests.get(player_url)\n",
    "    player_get.json()\n",
    "    player_dict = json.loads(player_get.text)\n",
    "    \n",
    "    \n",
    "    print(player_dict) \n",
    "#     for i in player_dict:\n",
    "#         player_id = i['data'][0][\"id\"]\n",
    "#         return player_id append to list\n",
    "         "
   ]
  },
  {
   "cell_type": "code",
   "execution_count": null,
   "id": "857d6725-ce94-43eb-9388-e4430754fdf3",
   "metadata": {},
   "outputs": [],
   "source": []
  }
 ],
 "metadata": {
  "kernelspec": {
   "display_name": "dev",
   "language": "python",
   "name": "dev"
  },
  "language_info": {
   "codemirror_mode": {
    "name": "ipython",
    "version": 3
   },
   "file_extension": ".py",
   "mimetype": "text/x-python",
   "name": "python",
   "nbconvert_exporter": "python",
   "pygments_lexer": "ipython3",
   "version": "3.7.7"
  }
 },
 "nbformat": 4,
 "nbformat_minor": 5
}

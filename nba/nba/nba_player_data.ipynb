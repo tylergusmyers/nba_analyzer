{
 "cells": [
  {
   "cell_type": "code",
   "execution_count": 1,
   "id": "a6c1ced5-7468-4388-8f2a-06de210163d9",
   "metadata": {},
   "outputs": [],
   "source": [
    "import requests\n",
    "import json\n",
    "import pprint\n",
    "import pandas as pd\n",
    "import pycurl\n",
    "pp = pprint.PrettyPrinter()"
   ]
  },
  {
   "cell_type": "code",
   "execution_count": 2,
   "id": "53c091c2-0d37-4aa8-92c1-dec81879cc1d",
   "metadata": {},
   "outputs": [],
   "source": [
    "# This is an example of one pull from the balldontlie.io API for a player searched by name\n",
    "# You can see that lebron james was added as a search term at the end, and we can replicate this with other players\n",
    "# The goal being to isolate the id's to use later for performance statistics\n",
    "# Next we will be creating a for loop to get all of the players from our salaries list"
   ]
  },
  {
   "cell_type": "code",
   "execution_count": 3,
   "id": "48808bb7-b5f2-4061-a3a2-a2c234fa3bbf",
   "metadata": {},
   "outputs": [
    {
     "data": {
      "text/plain": [
       "{'data': [{'id': 237,\n",
       "   'first_name': 'LeBron',\n",
       "   'height_feet': 6,\n",
       "   'height_inches': 8,\n",
       "   'last_name': 'James',\n",
       "   'position': 'F',\n",
       "   'team': {'id': 14,\n",
       "    'abbreviation': 'LAL',\n",
       "    'city': 'Los Angeles',\n",
       "    'conference': 'West',\n",
       "    'division': 'Pacific',\n",
       "    'full_name': 'Los Angeles Lakers',\n",
       "    'name': 'Lakers'},\n",
       "   'weight_pounds': 250}],\n",
       " 'meta': {'total_pages': 1,\n",
       "  'current_page': 1,\n",
       "  'next_page': None,\n",
       "  'per_page': 25,\n",
       "  'total_count': 1}}"
      ]
     },
     "execution_count": 3,
     "metadata": {},
     "output_type": "execute_result"
    }
   ],
   "source": [
    "# As you can see in this example, any capitalization does not matter for the player search\n",
    "james = requests.get(\"https://www.balldontlie.io/api/v1/players/?search=LEbron jaMes\")\n",
    "james.json()"
   ]
  },
  {
   "cell_type": "code",
   "execution_count": 4,
   "id": "c055068a-1277-4a8f-8387-d1a7bc7d5f16",
   "metadata": {},
   "outputs": [
    {
     "name": "stdout",
     "output_type": "stream",
     "text": [
      "{'data': [{'id': 237, 'first_name': 'LeBron', 'height_feet': 6, 'height_inches': 8, 'last_name': 'James', 'position': 'F', 'team': {'id': 14, 'abbreviation': 'LAL', 'city': 'Los Angeles', 'conference': 'West', 'division': 'Pacific', 'full_name': 'Los Angeles Lakers', 'name': 'Lakers'}, 'weight_pounds': 250}], 'meta': {'total_pages': 1, 'current_page': 1, 'next_page': None, 'per_page': 25, 'total_count': 1}}\n"
     ]
    },
    {
     "data": {
      "text/plain": [
       "dict"
      ]
     },
     "execution_count": 4,
     "metadata": {},
     "output_type": "execute_result"
    }
   ],
   "source": [
    "# We take the file from BDLio and convert it to a dictionary so we car parse the ID\n",
    "james_dict = json.loads(james.text)\n",
    "print(james_dict)\n",
    "type(james_dict)"
   ]
  },
  {
   "cell_type": "code",
   "execution_count": 5,
   "id": "82931d5c-6d3e-44fe-b7f9-0bbb1d9904d8",
   "metadata": {},
   "outputs": [],
   "source": [
    "james_id = james_dict['data'][0][\"id\"]"
   ]
  },
  {
   "cell_type": "code",
   "execution_count": 6,
   "id": "5f0ff945-45c7-4933-ac8b-e5ea2d7c313d",
   "metadata": {},
   "outputs": [
    {
     "data": {
      "text/plain": [
       "['Stephen Curry',\n",
       " 'John Wall',\n",
       " 'Russell Westbrook',\n",
       " 'James Harden',\n",
       " 'Damian Lillard',\n",
       " 'LeBron James',\n",
       " 'Kevin Durant',\n",
       " 'Giannis Antetokounmpo',\n",
       " 'Paul George',\n",
       " 'Kawhi Leonard',\n",
       " 'Klay Thompson',\n",
       " 'Jimmy Butler',\n",
       " 'Tobias Harris',\n",
       " 'Khris Middleton',\n",
       " 'Anthony Davis',\n",
       " 'Rudy Gobert',\n",
       " 'Kyrie Irving',\n",
       " 'Bradley Beal',\n",
       " 'Kristaps Porzingis',\n",
       " 'Devin Booker']"
      ]
     },
     "execution_count": 6,
     "metadata": {},
     "output_type": "execute_result"
    }
   ],
   "source": [
    "%store -r player_names_list\n",
    "player_names_list"
   ]
  },
  {
   "cell_type": "code",
   "execution_count": null,
   "id": "830d07a9-27ba-41b0-ab88-e76548fc665c",
   "metadata": {},
   "outputs": [],
   "source": [
    "url = \"https://www.balldontlie.io/api/v1/players/?search=\"\n",
    "player_id_list = []\n",
    "\n",
    "for name in player_names_list:\n",
    "    player_url = url + f\"{name}\"\n",
    "    player_get = requests.get(player_url)\n",
    "    player_get.json()\n",
    "    player_dict = json.loads(player_get.text)\n",
    "    player_id_list.append(player_dict['data'][0][\"id\"])\n",
    "print(player_id_list)"
   ]
  },
  {
   "cell_type": "code",
   "execution_count": 8,
   "id": "5b4498c6-cab1-4fbf-90b6-6239b0949330",
   "metadata": {},
   "outputs": [],
   "source": [
    "#  player_ids_list.append(player_dict['data'][0][\"id\"])"
   ]
  },
  {
   "cell_type": "code",
   "execution_count": 9,
   "id": "5dc4883e-3a99-435b-852f-fc116b7df655",
   "metadata": {},
   "outputs": [],
   "source": [
    "id_list = [115, \n",
    "1014,\n",
    "472,\n",
    "192,\n",
    "278,\n",
    "237,\n",
    "140,\n",
    "15,\n",
    "172,\n",
    "274,\n",
    "443,\n",
    "79,\n",
    "200,\n",
    "315,\n",
    "117,\n",
    "176,\n",
    "228,\n",
    "37,\n",
    "57\n",
    "          ]"
   ]
  },
  {
   "cell_type": "code",
   "execution_count": 10,
   "id": "53ab6bd0-9923-4549-b811-98363fda6048",
   "metadata": {},
   "outputs": [
    {
     "data": {
      "text/plain": [
       "{'Stephen Curry': 115,\n",
       " 'John Wall': 1014,\n",
       " 'Russell Westbrook': 472,\n",
       " 'James Harden': 192,\n",
       " 'Damian Lillard': 278,\n",
       " 'LeBron James': 237,\n",
       " 'Kevin Durant': 140,\n",
       " 'Giannis Antetokounmpo': 15,\n",
       " 'Paul George': 172,\n",
       " 'Kawhi Leonard': 274,\n",
       " 'Klay Thompson': 443,\n",
       " 'Jimmy Butler': 79,\n",
       " 'Tobias Harris': 200,\n",
       " 'Khris Middleton': 315,\n",
       " 'Anthony Davis': 117,\n",
       " 'Rudy Gobert': 176,\n",
       " 'Kyrie Irving': 228,\n",
       " 'Bradley Beal': 37,\n",
       " 'Kristaps Porzingis': 57}"
      ]
     },
     "execution_count": 10,
     "metadata": {},
     "output_type": "execute_result"
    }
   ],
   "source": [
    "id_player_dict = dict(zip(player_names_list, id_list))\n",
    "id_player_dict "
   ]
  },
  {
   "cell_type": "code",
   "execution_count": null,
   "id": "8c002077-d3bd-4477-ae49-2a2e285a2ccb",
   "metadata": {},
   "outputs": [],
   "source": []
  }
 ],
 "metadata": {
  "kernelspec": {
   "display_name": "dev",
   "language": "python",
   "name": "dev"
  },
  "language_info": {
   "codemirror_mode": {
    "name": "ipython",
    "version": 3
   },
   "file_extension": ".py",
   "mimetype": "text/x-python",
   "name": "python",
   "nbconvert_exporter": "python",
   "pygments_lexer": "ipython3",
   "version": "3.7.7"
  }
 },
 "nbformat": 4,
 "nbformat_minor": 5
}

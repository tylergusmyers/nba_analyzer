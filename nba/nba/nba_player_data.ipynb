{
 "cells": [
  {
   "cell_type": "code",
   "execution_count": 18,
   "id": "a6c1ced5-7468-4388-8f2a-06de210163d9",
   "metadata": {},
   "outputs": [],
   "source": [
    "import requests\n",
    "import json\n",
    "import pprint\n",
    "import pandas as pd\n",
    "import pycurl\n",
    "pp = pprint.PrettyPrinter()"
   ]
  },
  {
   "cell_type": "code",
   "execution_count": 2,
   "id": "53c091c2-0d37-4aa8-92c1-dec81879cc1d",
   "metadata": {},
   "outputs": [],
   "source": [
    "# This is an example of one pull from the balldontlie.io API for a player searched by name\n",
    "# You can see that lebron james was added as a search term at the end, and we can replicate this with other players\n",
    "# The goal being to isolate the id's to use later for performance statistics\n",
    "# Next we will be creating a for loop to get all of the players from our salaries list"
   ]
  },
  {
   "cell_type": "code",
   "execution_count": 21,
   "id": "48808bb7-b5f2-4061-a3a2-a2c234fa3bbf",
   "metadata": {},
   "outputs": [
    {
     "data": {
      "text/plain": [
       "{'data': [{'id': 237,\n",
       "   'first_name': 'LeBron',\n",
       "   'height_feet': 6,\n",
       "   'height_inches': 8,\n",
       "   'last_name': 'James',\n",
       "   'position': 'F',\n",
       "   'team': {'id': 14,\n",
       "    'abbreviation': 'LAL',\n",
       "    'city': 'Los Angeles',\n",
       "    'conference': 'West',\n",
       "    'division': 'Pacific',\n",
       "    'full_name': 'Los Angeles Lakers',\n",
       "    'name': 'Lakers'},\n",
       "   'weight_pounds': 250}],\n",
       " 'meta': {'total_pages': 1,\n",
       "  'current_page': 1,\n",
       "  'next_page': None,\n",
       "  'per_page': 25,\n",
       "  'total_count': 1}}"
      ]
     },
     "execution_count": 21,
     "metadata": {},
     "output_type": "execute_result"
    }
   ],
   "source": [
    "# As you can see in this example, any capitalization does not matter for the player search\n",
    "james = requests.get(\"https://www.balldontlie.io/api/v1/players/?search=LEbron jaMes\")\n",
    "james.json()"
   ]
  },
  {
   "cell_type": "code",
   "execution_count": 4,
   "id": "c055068a-1277-4a8f-8387-d1a7bc7d5f16",
   "metadata": {},
   "outputs": [
    {
     "name": "stdout",
     "output_type": "stream",
     "text": [
      "{'data': [{'id': 237, 'first_name': 'LeBron', 'height_feet': 6, 'height_inches': 8, 'last_name': 'James', 'position': 'F', 'team': {'id': 14, 'abbreviation': 'LAL', 'city': 'Los Angeles', 'conference': 'West', 'division': 'Pacific', 'full_name': 'Los Angeles Lakers', 'name': 'Lakers'}, 'weight_pounds': 250}], 'meta': {'total_pages': 1, 'current_page': 1, 'next_page': None, 'per_page': 25, 'total_count': 1}}\n"
     ]
    },
    {
     "data": {
      "text/plain": [
       "dict"
      ]
     },
     "execution_count": 4,
     "metadata": {},
     "output_type": "execute_result"
    }
   ],
   "source": [
    "# We take the file from BDLio and convert it to a dictionary so we car parse the ID\n",
    "james_dict = json.loads(james.text)\n",
    "print(james_dict)\n",
    "type(james_dict)"
   ]
  },
  {
   "cell_type": "code",
   "execution_count": 16,
   "id": "82931d5c-6d3e-44fe-b7f9-0bbb1d9904d8",
   "metadata": {},
   "outputs": [
    {
     "data": {
      "text/plain": [
       "237"
      ]
     },
     "execution_count": 16,
     "metadata": {},
     "output_type": "execute_result"
    }
   ],
   "source": [
    "james_id = james_dict['data'][0][\"id\"]"
   ]
  },
  {
   "cell_type": "code",
   "execution_count": null,
   "id": "11ccfe9f-67b4-4806-b7b2-a0f75a60d21a",
   "metadata": {},
   "outputs": [],
   "source": []
  },
  {
   "cell_type": "code",
   "execution_count": 20,
   "id": "5f0ff945-45c7-4933-ac8b-e5ea2d7c313d",
   "metadata": {},
   "outputs": [
    {
     "data": {
      "text/plain": [
       "['Stephen Curry',\n",
       " 'John Wall',\n",
       " 'Russell Westbrook',\n",
       " 'James Harden',\n",
       " 'Damian Lillard',\n",
       " 'LeBron James',\n",
       " 'Kevin Durant',\n",
       " 'Giannis Antetokounmpo',\n",
       " 'Paul George',\n",
       " 'Kawhi Leonard',\n",
       " 'Klay Thompson',\n",
       " 'Jimmy Butler',\n",
       " 'Tobias Harris',\n",
       " 'Khris Middleton',\n",
       " 'Anthony Davis',\n",
       " 'Rudy Gobert',\n",
       " 'Kyrie Irving',\n",
       " 'Bradley Beal',\n",
       " 'Kristaps Porziņģis',\n",
       " 'Devin Booker']"
      ]
     },
     "execution_count": 20,
     "metadata": {},
     "output_type": "execute_result"
    }
   ],
   "source": [
    "%store -r player_names_list\n",
    "player_names_list"
   ]
  },
  {
   "cell_type": "code",
   "execution_count": null,
   "id": "830d07a9-27ba-41b0-ab88-e76548fc665c",
   "metadata": {},
   "outputs": [],
   "source": []
  }
 ],
 "metadata": {
  "kernelspec": {
   "display_name": "dev",
   "language": "python",
   "name": "dev"
  },
  "language_info": {
   "codemirror_mode": {
    "name": "ipython",
    "version": 3
   },
   "file_extension": ".py",
   "mimetype": "text/x-python",
   "name": "python",
   "nbconvert_exporter": "python",
   "pygments_lexer": "ipython3",
   "version": "3.7.7"
  }
 },
 "nbformat": 4,
 "nbformat_minor": 5
}

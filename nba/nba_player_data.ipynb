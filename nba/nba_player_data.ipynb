{
 "cells": [
  {
   "cell_type": "code",
   "execution_count": 12,
   "id": "a6c1ced5-7468-4388-8f2a-06de210163d9",
   "metadata": {},
   "outputs": [],
   "source": [
    "import requests\n",
    "import json\n",
    "import pprint\n",
    "import pandas as pd\n",
    "import pycurl\n",
    "pp = pprint.PrettyPrinter()"
   ]
  },
  {
   "cell_type": "code",
   "execution_count": null,
   "id": "53c091c2-0d37-4aa8-92c1-dec81879cc1d",
   "metadata": {},
   "outputs": [],
   "source": [
    "# This is an example of one pull from the balldontlie.io API for a player searched by name\n",
    "# You can see that lebron james was added as a search term at the end, and we can replicate this with other players\n",
    "# Next we will be creating a for loop to get all of the players from our salaries list"
   ]
  },
  {
   "cell_type": "code",
   "execution_count": 61,
   "id": "c055068a-1277-4a8f-8387-d1a7bc7d5f16",
   "metadata": {},
   "outputs": [
    {
     "data": {
      "text/plain": [
       "{'data': [{'id': 237,\n",
       "   'first_name': 'LeBron',\n",
       "   'height_feet': 6,\n",
       "   'height_inches': 8,\n",
       "   'last_name': 'James',\n",
       "   'position': 'F',\n",
       "   'team': {'id': 14,\n",
       "    'abbreviation': 'LAL',\n",
       "    'city': 'Los Angeles',\n",
       "    'conference': 'West',\n",
       "    'division': 'Pacific',\n",
       "    'full_name': 'Los Angeles Lakers',\n",
       "    'name': 'Lakers'},\n",
       "   'weight_pounds': 250}],\n",
       " 'meta': {'total_pages': 1,\n",
       "  'current_page': 1,\n",
       "  'next_page': None,\n",
       "  'per_page': 25,\n",
       "  'total_count': 1}}"
      ]
     },
     "execution_count": 61,
     "metadata": {},
     "output_type": "execute_result"
    }
   ],
   "source": [
    "james = requests.get(\"https://www.balldontlie.io/api/v1/players/?search=lebron james\")\n",
    "type(james)\n",
    "james.json()"
   ]
  },
  {
   "cell_type": "code",
   "execution_count": null,
   "id": "82931d5c-6d3e-44fe-b7f9-0bbb1d9904d8",
   "metadata": {},
   "outputs": [],
   "source": [
    "#"
   ]
  }
 ],
 "metadata": {
  "kernelspec": {
   "display_name": "dev",
   "language": "python",
   "name": "dev"
  },
  "language_info": {
   "codemirror_mode": {
    "name": "ipython",
    "version": 3
   },
   "file_extension": ".py",
   "mimetype": "text/x-python",
   "name": "python",
   "nbconvert_exporter": "python",
   "pygments_lexer": "ipython3",
   "version": "3.7.7"
  }
 },
 "nbformat": 4,
 "nbformat_minor": 5
}

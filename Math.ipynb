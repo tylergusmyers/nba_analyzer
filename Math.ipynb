{
 "cells": [
  {
   "cell_type": "code",
   "execution_count": null,
   "id": "ac9f98ec-4413-46d1-86cc-255ea3add1d7",
   "metadata": {},
   "outputs": [],
   "source": [
    "# Import Stored Variables\n"
   ]
  },
  {
   "cell_type": "code",
   "execution_count": null,
   "id": "912ed53d-d36c-4001-95a3-8c2aef98a605",
   "metadata": {},
   "outputs": [],
   "source": [
    "# Calculate GameScore Ratio"
   ]
  },
  {
   "cell_type": "code",
   "execution_count": null,
   "id": "3c067746-9990-49b9-9f04-06296f24f831",
   "metadata": {},
   "outputs": [],
   "source": [
    "salaries_gamescore_nan = pd.merge(salaries_df, game_score_df, right_index=True, left_index=True)\n",
    "salaries_gamescore_df = salaries_gamescore_nan.fillna(0)\n",
    "salaries_gamescore_df['2021-22'] = salaries_gamescore_df['2021-22'].astype(float)\n",
    "salaries_gamescore_df.dtypes"
   ]
  },
  {
   "cell_type": "code",
   "execution_count": null,
   "id": "622df4da-7a9e-46da-9dac-cf9b637bb6b8",
   "metadata": {},
   "outputs": [],
   "source": [
    "salaries_gamescore_df = salaries_gamescore_df.rename(columns = {0 : 'game_score'})\n",
    "salaries_gamescore_df"
   ]
  },
  {
   "cell_type": "code",
   "execution_count": null,
   "id": "406c623e-69d9-457c-ad26-9bd00651ea14",
   "metadata": {},
   "outputs": [],
   "source": [
    "# Create the GameScore ratio function and add it to a new dataframe\n",
    "pd.options.display.float_format = '{:,.2f}'.format\n",
    "salaries_gamescore_df['GameScore_Salary_Ratio'] = salaries_gamescore_df[\"2021-22\"]/salaries_gamescore_df['game_score']\n",
    "salaries_gamescore_df = salaries_gamescore_df.replace([np.inf, -np.inf], np.nan).fillna(0)\n",
    "salaries_gamescore_df"
   ]
  },
  {
   "cell_type": "code",
   "execution_count": 1,
   "id": "be260c05-1ddd-4919-93bd-ef0d6666ee82",
   "metadata": {},
   "outputs": [
    {
     "ename": "NameError",
     "evalue": "name 'salary_player_id_df' is not defined",
     "output_type": "error",
     "traceback": [
      "\u001b[1;31m---------------------------------------------------------------------------\u001b[0m",
      "\u001b[1;31mNameError\u001b[0m                                 Traceback (most recent call last)",
      "\u001b[1;32m<ipython-input-1-a5d1d3833983>\u001b[0m in \u001b[0;36m<module>\u001b[1;34m\u001b[0m\n\u001b[1;32m----> 1\u001b[1;33m \u001b[0msalary_player_id_df\u001b[0m \u001b[1;33m=\u001b[0m \u001b[0msalary_player_id_df\u001b[0m\u001b[1;33m.\u001b[0m\u001b[0miloc\u001b[0m\u001b[1;33m[\u001b[0m\u001b[1;33m:\u001b[0m \u001b[1;33m,\u001b[0m \u001b[1;36m3\u001b[0m\u001b[1;33m]\u001b[0m\u001b[1;33m.\u001b[0m\u001b[0mstr\u001b[0m\u001b[1;33m.\u001b[0m\u001b[0mreplace\u001b[0m\u001b[1;33m(\u001b[0m\u001b[1;34m'$'\u001b[0m\u001b[1;33m,\u001b[0m \u001b[1;34m''\u001b[0m\u001b[1;33m)\u001b[0m\u001b[1;33m.\u001b[0m\u001b[0mastype\u001b[0m\u001b[1;33m(\u001b[0m\u001b[0mint\u001b[0m\u001b[1;33m)\u001b[0m\u001b[1;33m\u001b[0m\u001b[1;33m\u001b[0m\u001b[0m\n\u001b[0m",
      "\u001b[1;31mNameError\u001b[0m: name 'salary_player_id_df' is not defined"
     ]
    }
   ],
   "source": [
    "salary_player_id_df = salary_player_id_df.iloc[: , 3].str.replace('$', '').astype(int)"
   ]
  },
  {
   "cell_type": "code",
   "execution_count": null,
   "id": "eb6cba78-23a1-44d8-b8ea-5fb38d92e3b4",
   "metadata": {},
   "outputs": [],
   "source": [
    "# Create the GameScore ratio function and add it to a new dataframe\n",
    "pd.options.display.float_format = '{:,.2f}'.format\n",
    "all_data_df['GameScore_Salary_Ratio'] = all_data_df[\"salary\"]/all_data_df['game_score']\n",
    "all_data_df = all_data_df.replace([np.inf, -np.inf], np.nan).fillna(0)\n",
    "all_data_df"
   ]
  }
 ],
 "metadata": {
  "kernelspec": {
   "display_name": "dev",
   "language": "python",
   "name": "dev"
  },
  "language_info": {
   "codemirror_mode": {
    "name": "ipython",
    "version": 3
   },
   "file_extension": ".py",
   "mimetype": "text/x-python",
   "name": "python",
   "nbconvert_exporter": "python",
   "pygments_lexer": "ipython3",
   "version": "3.7.10"
  }
 },
 "nbformat": 4,
 "nbformat_minor": 5
}
